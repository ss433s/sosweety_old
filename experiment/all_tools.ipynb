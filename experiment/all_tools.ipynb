{
 "cells": [
  {
   "cell_type": "code",
   "execution_count": 4,
   "metadata": {},
   "outputs": [
    {
     "output_type": "error",
     "ename": "ModuleNotFoundError",
     "evalue": "No module named 'pyltp'",
     "traceback": [
      "\u001b[0;31m---------------------------------------------------------------------------\u001b[0m",
      "\u001b[0;31mModuleNotFoundError\u001b[0m                       Traceback (most recent call last)",
      "\u001b[0;32m<ipython-input-4-bf36fdfdc247>\u001b[0m in \u001b[0;36m<module>\u001b[0;34m\u001b[0m\n\u001b[1;32m      5\u001b[0m \u001b[0;32mfrom\u001b[0m \u001b[0mpyhanlp\u001b[0m \u001b[0;32mimport\u001b[0m \u001b[0;34m*\u001b[0m\u001b[0;34m\u001b[0m\u001b[0;34m\u001b[0m\u001b[0m\n\u001b[1;32m      6\u001b[0m \u001b[0;32mimport\u001b[0m \u001b[0mos\u001b[0m\u001b[0;34m\u001b[0m\u001b[0;34m\u001b[0m\u001b[0m\n\u001b[0;32m----> 7\u001b[0;31m \u001b[0;32mfrom\u001b[0m \u001b[0mpyltp\u001b[0m \u001b[0;32mimport\u001b[0m \u001b[0mSegmentor\u001b[0m\u001b[0;34m\u001b[0m\u001b[0;34m\u001b[0m\u001b[0m\n\u001b[0m\u001b[1;32m      8\u001b[0m \u001b[0;32mfrom\u001b[0m \u001b[0mpyltp\u001b[0m \u001b[0;32mimport\u001b[0m \u001b[0mPostagger\u001b[0m\u001b[0;34m\u001b[0m\u001b[0;34m\u001b[0m\u001b[0m\n\u001b[1;32m      9\u001b[0m \u001b[0;32mfrom\u001b[0m \u001b[0mpyltp\u001b[0m \u001b[0;32mimport\u001b[0m \u001b[0mParser\u001b[0m\u001b[0;34m\u001b[0m\u001b[0;34m\u001b[0m\u001b[0m\n",
      "\u001b[0;31mModuleNotFoundError\u001b[0m: No module named 'pyltp'"
     ]
    }
   ],
   "source": [
    "import pandas as pd\n",
    "import json\n",
    "# from stanfordcorenlp import StanfordCoreNLP\n",
    "# nlp = StanfordCoreNLP(r'/DATA/disk1/guoyu9/setups/stanford-corenlp-full-2018-10-05/', lang='zh')\n",
    "from pyhanlp import *\n",
    "import os\n",
    "from pyltp import Segmentor\n",
    "from pyltp import Postagger\n",
    "from pyltp import Parser\n",
    "import jieba\n",
    "import jieba.posseg"
   ]
  },
  {
   "cell_type": "markdown",
   "metadata": {},
   "source": [
    "<font color=black size=6 face=\"黑体\"> Data Prepare </font>"
   ]
  },
  {
   "cell_type": "code",
   "execution_count": null,
   "metadata": {
    "scrolled": true
   },
   "outputs": [],
   "source": [
    "%%time\n",
    "# train_json_file=open('datasets/train_data.json')\n",
    "# train_data=[]\n",
    "# for j in train_json_file.readlines():\n",
    "#     item=json.loads(j)\n",
    "#     train_data.append(item)\n",
    "# print(train_data[44])"
   ]
  },
  {
   "cell_type": "code",
   "execution_count": 21,
   "metadata": {
    "scrolled": true
   },
   "outputs": [
    {
     "name": "stdout",
     "output_type": "stream",
     "text": [
      "{'postag': [{'word': '我', 'pos': 'r'}, {'word': '国', 'pos': 'n'}, {'word': '古代', 'pos': 't'}, {'word': '四大', 'pos': 'm'}, {'word': '名著', 'pos': 'n'}, {'word': '之', 'pos': 'u'}, {'word': '一', 'pos': 'm'}, {'word': '《', 'pos': 'w'}, {'word': '三国演义', 'pos': 'nw'}, {'word': '》', 'pos': 'w'}, {'word': '写', 'pos': 'v'}, {'word': '刘备', 'pos': 'nr'}, {'word': '“', 'pos': 'w'}, {'word': '三顾茅庐', 'pos': 'v'}, {'word': '”', 'pos': 'w'}, {'word': '聘请', 'pos': 'v'}, {'word': '诸葛亮', 'pos': 'nr'}, {'word': '出山', 'pos': 'v'}, {'word': '辅助', 'pos': 'v'}, {'word': '他', 'pos': 'r'}, {'word': '成就', 'pos': 'v'}, {'word': '帝业', 'pos': 'v'}, {'word': '的', 'pos': 'u'}, {'word': '故事', 'pos': 'n'}, {'word': '，', 'pos': 'w'}, {'word': '将', 'pos': 'p'}, {'word': '刘备', 'pos': 'nr'}, {'word': '的', 'pos': 'u'}, {'word': '礼贤下士', 'pos': 'n'}, {'word': '的', 'pos': 'u'}, {'word': '态度', 'pos': 'n'}, {'word': '写', 'pos': 'v'}, {'word': '得', 'pos': 'u'}, {'word': '栩栩如生', 'pos': 'a'}, {'word': '，', 'pos': 'w'}, {'word': '把', 'pos': 'p'}, {'word': '刘备', 'pos': 'nr'}, {'word': '对', 'pos': 'p'}, {'word': '诸葛亮', 'pos': 'nr'}, {'word': '的', 'pos': 'u'}, {'word': '敬仰', 'pos': 'v'}, {'word': '之', 'pos': 'u'}, {'word': '情', 'pos': 'n'}, {'word': '，', 'pos': 'w'}, {'word': '关羽', 'pos': 'nr'}, {'word': '、', 'pos': 'w'}, {'word': '张飞', 'pos': 'nr'}, {'word': '的', 'pos': 'u'}, {'word': '居功自傲', 'pos': 'n'}, {'word': '描绘', 'pos': 'v'}, {'word': '得', 'pos': 'u'}, {'word': '惟妙惟肖', 'pos': 'a'}, {'word': '，', 'pos': 'w'}, {'word': '入木三分', 'pos': 'v'}, {'word': '，', 'pos': 'w'}, {'word': '这', 'pos': 'r'}, {'word': '段', 'pos': 'q'}, {'word': '“', 'pos': 'w'}, {'word': '三顾茅庐', 'pos': 'v'}, {'word': '”', 'pos': 'w'}, {'word': '的', 'pos': 'u'}, {'word': '故事', 'pos': 'n'}, {'word': '，', 'pos': 'w'}, {'word': '是', 'pos': 'v'}, {'word': '罗贯中', 'pos': 'nr'}, {'word': '根据', 'pos': 'p'}, {'word': '陈寿', 'pos': 'nr'}, {'word': '《', 'pos': 'w'}, {'word': '三国志', 'pos': 'nw'}, {'word': '·', 'pos': 'w'}, {'word': '诸葛亮传', 'pos': 'nw'}, {'word': '》', 'pos': 'w'}, {'word': '中', 'pos': 'f'}, {'word': '的', 'pos': 'u'}, {'word': '记载', 'pos': 'vn'}, {'word': '，', 'pos': 'w'}, {'word': '加以', 'pos': 'v'}, {'word': '艺术', 'pos': 'n'}, {'word': '构思', 'pos': 'vn'}, {'word': '而', 'pos': 'c'}, {'word': '创作', 'pos': 'v'}, {'word': '的', 'pos': 'u'}], 'text': '我国古代四大名著之一《三国演义》写刘备“三顾茅庐”聘请诸葛亮出山辅助他成就帝业的故事，将刘备的礼贤下士的态度写得栩栩如生，把刘备对诸葛亮的敬仰之情，关羽、张飞的居功自傲描绘得惟妙惟肖，入木三分，这段“三顾茅庐”的故事，是罗贯中根据陈寿《三国志·诸葛亮传》中的记载，加以艺术构思而创作的', 'spo_list': [{'predicate': '作者', 'object_type': '人物', 'subject_type': '图书作品', 'object': '罗贯中', 'subject': '三国演义'}, {'predicate': '朝代', 'object_type': 'Text', 'subject_type': '历史人物', 'object': '三国', 'subject': '刘备'}, {'predicate': '主角', 'object_type': '人物', 'subject_type': '网络小说', 'object': '张飞', 'subject': '三国演义'}, {'predicate': '作者', 'object_type': '人物', 'subject_type': '图书作品', 'object': '陈寿', 'subject': '三国志'}]}\n"
     ]
    },
    {
     "data": {
      "text/plain": [
       "'我国古代四大名著之一《三国演义》写刘备聘请诸葛亮出山辅助他成就帝业的故事'"
      ]
     },
     "execution_count": 21,
     "metadata": {},
     "output_type": "execute_result"
    }
   ],
   "source": [
    "sentence=train_data[num]['text'] \n",
    "# sentence='用锤子砸他'\n",
    "# sentence='我用过这个工具'\n",
    "# sentence='连小学生都会'\n",
    "#sentence='爷爷看见孙子在跑'\n",
    "#sentence='小葛，南海道龙口村人'\n",
    "# sentence='他去吃饭了'\n",
    "# sentence='网络小说《西游神魔秘史传》是起点中文网写手永远的牛头的第三部小说，讲述了炎狐王，白殇王两只狐妖在西游背景下的故事'\n",
    "# sentence='《黑豹天下》中，梁家辉饰演的孟波辉无论从造型上，名字上不用说都可断定其原型是谁'\n",
    "#sentence='羽泉第六张专辑《朋友难当》中的曲目《翅膀》MV的地点选在了南戴河，希望能拍摄出最震撼的效果'\n",
    "#sentence='弗谢沃洛德之子红太阳莫诺马赫打败南俄草原的波洛韦茨人，消除了突厥人对基辅罗斯的威胁。'\n",
    "#sentence='电话被窃听的房间找到 了'\n",
    "#sentence='弗谢沃洛德之子红太阳莫诺马赫打败兽人的野狼，消除了其对基辅罗斯的威胁。'\n",
    "sentence='我国古代四大名著之一《三国演义》写刘备聘请诸葛亮出山辅助他成就帝业的故事'\n",
    "print(train_data[num])\n",
    "sentence"
   ]
  },
  {
   "cell_type": "markdown",
   "metadata": {},
   "source": [
    "<font color=black size=6 face=\"黑体\"> StanfordNLP</font>"
   ]
  },
  {
   "cell_type": "code",
   "execution_count": 22,
   "metadata": {
    "scrolled": true
   },
   "outputs": [
    {
     "name": "stdout",
     "output_type": "stream",
     "text": [
      "[('我国', 'NN'), ('古代', 'NN'), ('四', 'CD'), ('大', 'JJ'), ('名著', 'NN'), ('之一', 'NN'), ('《', 'PU'), ('三', 'CD'), ('国', 'NN'), ('演义', 'NN'), ('》', 'PU'), ('写', 'VV'), ('刘备', 'NR'), ('聘请', 'VV'), ('诸葛亮', 'NR'), ('出山', 'VV'), ('辅助', 'VV'), ('他', 'PN'), ('成就', 'NN'), ('帝业', 'VV'), ('的', 'DEC'), ('故事', 'NN')]\n",
      "(ROOT\n",
      "  (IP\n",
      "    (NP\n",
      "      (NP\n",
      "        (NP (NN 我国) (NN 古代))\n",
      "        (QP (CD 四))\n",
      "        (ADJP (JJ 大))\n",
      "        (NP (NN 名著) (NN 之一)))\n",
      "      (NP (PU 《)\n",
      "        (NP\n",
      "          (QP (CD 三))\n",
      "          (NP (NN 国)))\n",
      "        (NP (NN 演义))\n",
      "        (PU 》)))\n",
      "    (VP (VV 写)\n",
      "      (IP\n",
      "        (IP\n",
      "          (NP (NR 刘备))\n",
      "          (VP (VV 聘请)\n",
      "            (NP (NR 诸葛亮))))\n",
      "        (VP (VV 出山)\n",
      "          (VP (VV 辅助)\n",
      "            (NP\n",
      "              (CP\n",
      "                (IP\n",
      "                  (NP (PN 他))\n",
      "                  (VP\n",
      "                    (NP (NN 成就))\n",
      "                    (VP (VV 帝业))))\n",
      "                (DEC 的))\n",
      "              (NP (NN 故事)))))))))\n",
      "[('ROOT', 0, 12), ('compound:nn', 6, 1), ('compound:nn', 5, 2), ('dep', 5, 3), ('amod', 5, 4), ('compound:nn', 6, 5), ('compound:nn', 10, 6), ('punct', 10, 7), ('dep', 9, 8), ('compound:nn', 10, 9), ('nsubj', 12, 10), ('punct', 10, 11), ('dobj', 12, 13), ('conj', 12, 14), ('dobj', 14, 15), ('ccomp', 14, 16), ('conj', 16, 17), ('nmod:poss', 19, 18), ('nsubj', 20, 19), ('acl', 22, 20), ('mark', 20, 21), ('dobj', 17, 22)]\n"
     ]
    }
   ],
   "source": [
    "print (nlp.pos_tag(sentence))\n",
    "#print (nlp.ner(sentence))\n",
    "#print (nlp.word_tokenize(sentence))\n",
    "print (nlp.parse(sentence))\n",
    "print (nlp.dependency_parse(sentence))"
   ]
  },
  {
   "cell_type": "markdown",
   "metadata": {},
   "source": [
    "<font color=black size=6 face=\"黑体\"> Hanlp </font>"
   ]
  },
  {
   "cell_type": "code",
   "execution_count": 23,
   "metadata": {
    "scrolled": false
   },
   "outputs": [
    {
     "name": "stdout",
     "output_type": "stream",
     "text": [
      "[我国/n, 古代/t, 四大名著/nz, 之一/rz, 《/w, 三国演义/nz, 》/w, 写/v, 刘备/nr, 聘请/v, 诸葛亮/nr, 出山/vi, 辅助/vn, 他/rr, 成就/n, 帝业/nz, 的/ude1, 故事/n]\n",
      "1\t我国\t我国\tn\tn\t_\t3\t定中关系\t_\t_\n",
      "2\t古代\t古代\tnt\tt\t_\t3\t定中关系\t_\t_\n",
      "3\t四大名著\t四大名著\tn\tn\t_\t4\t定中关系\t_\t_\n",
      "4\t之一\t之一\tr\tr\t_\t6\t定中关系\t_\t_\n",
      "5\t《\t《\twp\tw\t_\t6\t标点符号\t_\t_\n",
      "6\t三国演义\t三国演义\tnz\tnz\t_\t8\t主谓关系\t_\t_\n",
      "7\t》\t》\twp\tw\t_\t6\t标点符号\t_\t_\n",
      "8\t写\t写\tv\tv\t_\t0\t核心关系\t_\t_\n",
      "9\t刘备\t刘备\tnh\tnr\t_\t8\t动宾关系\t_\t_\n",
      "10\t聘请\t聘请\tv\tv\t_\t8\t并列关系\t_\t_\n",
      "11\t诸葛亮\t诸葛亮\tr\tr\t_\t10\t兼语\t_\t_\n",
      "12\t出山\t出山\tv\tv\t_\t10\t动宾关系\t_\t_\n",
      "13\t辅助\t辅助\tv\tv\t_\t12\t并列关系\t_\t_\n",
      "14\t他\t他\tr\tr\t_\t15\t主谓关系\t_\t_\n",
      "15\t成就\t成就\tv\tv\t_\t18\t定中关系\t_\t_\n",
      "16\t帝业\t帝业\tn\tn\t_\t15\t动宾关系\t_\t_\n",
      "17\t的\t的\tu\tu\t_\t15\t右附加关系\t_\t_\n",
      "18\t故事\t故事\tn\tn\t_\t13\t动宾关系\t_\t_\n"
     ]
    }
   ],
   "source": [
    "parse=HanLP.parseDependency(sentence)\n",
    "words=HanLP.segment(sentence)\n",
    "print(words)\n",
    "#print(parse.toString())\n",
    "\n",
    "# for i in parse.word:\n",
    "#     #print(dir(i))\n",
    "#     print(i.LEMMA,i.DEPREL,i.HEAD.LEMMA,i.POSTAG)\n",
    "for i in parse.word:\n",
    "    print(i)\n"
   ]
  },
  {
   "cell_type": "code",
   "execution_count": 24,
   "metadata": {
    "scrolled": true
   },
   "outputs": [
    {
     "name": "stdout",
     "output_type": "stream",
     "text": [
      "我国 4954 n\n",
      "古代 1 t\n",
      "四大名著 15 nz\n",
      "之一 3830 rz\n",
      "《 1 w\n",
      "三国演义 1 nz\n",
      "》 1 w\n",
      "写 3310 v\n",
      "刘备 58 nr\n",
      "聘请 210 v\n",
      "诸葛亮 1 nr\n",
      "出山 56 vi\n",
      "辅助 354 vn\n",
      "他 63846 rr\n",
      "成就 714 n\n",
      "帝业 5 nz\n",
      "的 857740 ude1\n",
      "故事 2525 n\n"
     ]
    }
   ],
   "source": [
    "for word in words:\n",
    "    #print(dir(word))\n",
    "    print(word.word,word.frequency,word.nature)"
   ]
  },
  {
   "cell_type": "markdown",
   "metadata": {},
   "source": [
    "<font color=black size=6 face=\"黑体\"> jieba</font>"
   ]
  },
  {
   "cell_type": "code",
   "execution_count": 5,
   "metadata": {
    "scrolled": true
   },
   "outputs": [
    {
     "name": "stderr",
     "output_type": "stream",
     "text": [
      "Building prefix dict from the default dictionary ...\n",
      "DEBUG:jieba:Building prefix dict from the default dictionary ...\n",
      "Loading model from cache /tmp/jieba.cache\n",
      "DEBUG:jieba:Loading model from cache /tmp/jieba.cache\n",
      "Loading model cost 0.814 seconds.\n",
      "DEBUG:jieba:Loading model cost 0.814 seconds.\n",
      "Prefix dict has been built succesfully.\n",
      "DEBUG:jieba:Prefix dict has been built succesfully.\n"
     ]
    },
    {
     "name": "stdout",
     "output_type": "stream",
     "text": [
      "南京|南京市|京市|市长|长江|长江大桥|大桥\n"
     ]
    }
   ],
   "source": [
    "# words = jieba.posseg.cut(sentence)\n",
    "# for word, flag in words:\n",
    "#     print('%s %s' % (word, flag))\n",
    "seg_list = jieba.cut(\"南京市长江大桥\", cut_all=True)\n",
    "print(\"|\".join(seg_list))"
   ]
  },
  {
   "cell_type": "markdown",
   "metadata": {},
   "source": [
    "<font color=black size=6 face=\"黑体\"> LTP </font>"
   ]
  },
  {
   "cell_type": "code",
   "execution_count": 26,
   "metadata": {},
   "outputs": [
    {
     "name": "stdout",
     "output_type": "stream",
     "text": [
      "<class 'pyltp.VectorOfString'>\n",
      "我国\t古代\t四\t大\t名著\t之一\t《\t三国演义\t》\t写\t刘备\t聘请\t诸葛亮\t出山\t辅助\t他\t成就\t帝业\t的\t故事\n",
      "n\tnt\tm\ta\tn\tr\twp\tnz\twp\tv\tnh\tv\tnh\tv\tv\tr\tv\tn\tu\tn\n",
      "5:ATT\t5:ATT\t4:ATT\t5:ATT\t6:ATT\t8:ATT\t8:WP\t10:SBV\t8:WP\t0:HED\t10:VOB\t10:COO\t12:DBL\t12:VOB\t14:COO\t17:SBV\t20:ATT\t17:VOB\t17:RAD\t15:VOB\n"
     ]
    }
   ],
   "source": [
    "LTP_DATA_DIR='/mnt/e/ubuntu/ltp_data_v3.4.0/'\n",
    "cws_model_path=os.path.join(LTP_DATA_DIR,'cws.model')\n",
    "pos_model_path = os.path.join(LTP_DATA_DIR, 'pos.model')  # 词性标注模型路径，模型名称为`pos.model`\n",
    "par_model_path = os.path.join(LTP_DATA_DIR, 'parser.model')  # 依存句法分析模型路径，模型名称为`parser.model`\n",
    "\n",
    "#tools 初始化和加载模型\n",
    "segmentor=Segmentor()\n",
    "segmentor.load(cws_model_path)\n",
    " \n",
    "postagger = Postagger() \n",
    "postagger.load(pos_model_path)  \n",
    "\n",
    "parser = Parser() \n",
    "parser.load(par_model_path)  \n",
    "\n",
    "#逐步处理sentence\n",
    "words=segmentor.segment(sentence)\n",
    "print(type(words))\n",
    "print('\\t'.join(words))\n",
    "\n",
    "postags = postagger.postag(words)\n",
    "print('\\t'.join(postags))\n",
    "\n",
    "arcs = parser.parse(words, postags)\n",
    "print(\"\\t\".join(\"%d:%s\" % (arc.head, arc.relation) for arc in arcs))\n",
    "\n",
    "segmentor.release()\n",
    "postagger.release()\n",
    "parser.release()"
   ]
  },
  {
   "cell_type": "code",
   "execution_count": null,
   "metadata": {},
   "outputs": [],
   "source": []
  }
 ],
 "metadata": {
  "kernelspec": {
   "display_name": "Python 3",
   "language": "python",
   "name": "python3"
  },
  "language_info": {
   "codemirror_mode": {
    "name": "ipython",
    "version": 3
   },
   "file_extension": ".py",
   "mimetype": "text/x-python",
   "name": "python",
   "nbconvert_exporter": "python",
   "pygments_lexer": "ipython3",
   "version": "3.7.3-final"
  }
 },
 "nbformat": 4,
 "nbformat_minor": 2
}