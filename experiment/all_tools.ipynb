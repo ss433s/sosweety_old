{
 "cells": [
  {
   "cell_type": "code",
   "execution_count": 6,
   "metadata": {},
   "outputs": [],
   "source": [
    "import pandas as pd\n",
    "import json\n",
    "from stanfordcorenlp import StanfordCoreNLP\n",
    "nlp = StanfordCoreNLP(r'/home/guoyu9/setups/nlp_support/stanford-corenlp-full-2018-10-05/', lang='zh')\n",
    "from pyhanlp import *\n",
    "import os\n",
    "from pyltp import Segmentor\n",
    "from pyltp import Postagger\n",
    "from pyltp import Parser\n",
    "import jieba\n",
    "import jieba.posseg"
   ]
  },
  {
   "cell_type": "markdown",
   "metadata": {},
   "source": [
    "<font color=black size=6 face=\"黑体\"> Data Prepare </font>"
   ]
  },
  {
   "cell_type": "code",
   "execution_count": 17,
   "metadata": {
    "scrolled": true
   },
   "outputs": [
    {
     "output_type": "stream",
     "name": "stdout",
     "text": "CPU times: user 0 ns, sys: 0 ns, total: 0 ns\nWall time: 20 µs\n"
    }
   ],
   "source": [
    "%%time\n",
    "# train_json_file=open('datasets/train_data.json')\n",
    "# train_data=[]\n",
    "# for j in train_json_file.readlines():\n",
    "#     item=json.loads(j)\n",
    "#     train_data.append(item)\n",
    "# print(train_data[44])"
   ]
  },
  {
   "cell_type": "code",
   "execution_count": 3,
   "metadata": {
    "scrolled": true
   },
   "outputs": [
    {
     "output_type": "execute_result",
     "data": {
      "text/plain": "'我国古代四大名著之一《三国演义》写刘备聘请诸葛亮出山辅助他成就帝业的故事'"
     },
     "metadata": {},
     "execution_count": 3
    }
   ],
   "source": [
    "# sentence=train_data[num]['text'] \n",
    "# print(train_data[num])\n",
    "# sentence='用锤子砸他'\n",
    "# sentence='我用过这个工具'\n",
    "# sentence='连小学生都会'\n",
    "#sentence='爷爷看见孙子在跑'\n",
    "#sentence='小葛，南海道龙口村人'\n",
    "# sentence='他去吃饭了'\n",
    "# sentence='网络小说《西游神魔秘史传》是起点中文网写手永远的牛头的第三部小说，讲述了炎狐王，白殇王两只狐妖在西游背景下的故事'\n",
    "# sentence='《黑豹天下》中，梁家辉饰演的孟波辉无论从造型上，名字上不用说都可断定其原型是谁'\n",
    "#sentence='羽泉第六张专辑《朋友难当》中的曲目《翅膀》MV的地点选在了南戴河，希望能拍摄出最震撼的效果'\n",
    "#sentence='弗谢沃洛德之子红太阳莫诺马赫打败南俄草原的波洛韦茨人，消除了突厥人对基辅罗斯的威胁。'\n",
    "#sentence='电话被窃听的房间找到 了'\n",
    "#sentence='弗谢沃洛德之子红太阳莫诺马赫打败兽人的野狼，消除了其对基辅罗斯的威胁。'\n",
    "sentence='我国古代四大名著之一《三国演义》写刘备聘请诸葛亮出山辅助他成就帝业的故事'\n",
    "\n",
    "sentence"
   ]
  },
  {
   "cell_type": "markdown",
   "metadata": {},
   "source": [
    "<font color=black size=6 face=\"黑体\"> StanfordNLP</font>"
   ]
  },
  {
   "cell_type": "code",
   "execution_count": 7,
   "metadata": {
    "scrolled": true
   },
   "outputs": [
    {
     "output_type": "stream",
     "name": "stdout",
     "text": "[('我国', 'NN'), ('古代', 'NN'), ('四', 'CD'), ('大', 'JJ'), ('名著', 'NN'), ('之一', 'NN'), ('《', 'PU'), ('三', 'CD'), ('国', 'NN'), ('演义', 'NN'), ('》', 'PU'), ('写', 'VV'), ('刘备', 'NR'), ('聘请', 'VV'), ('诸葛亮', 'NR'), ('出山', 'VV'), ('辅助', 'VV'), ('他', 'PN'), ('成就', 'NN'), ('帝业', 'VV'), ('的', 'DEC'), ('故事', 'NN')]\n(ROOT\n  (IP\n    (NP\n      (NP\n        (NP (NN 我国) (NN 古代))\n        (QP (CD 四))\n        (ADJP (JJ 大))\n        (NP (NN 名著) (NN 之一)))\n      (NP (PU 《)\n        (NP\n          (QP (CD 三))\n          (NP (NN 国)))\n        (NP (NN 演义))\n        (PU 》)))\n    (VP (VV 写)\n      (IP\n        (IP\n          (NP (NR 刘备))\n          (VP (VV 聘请)\n            (NP (NR 诸葛亮))))\n        (VP (VV 出山)\n          (VP (VV 辅助)\n            (NP\n              (CP\n                (IP\n                  (NP (PN 他))\n                  (VP\n                    (NP (NN 成就))\n                    (VP (VV 帝业))))\n                (DEC 的))\n              (NP (NN 故事)))))))))\n[('ROOT', 0, 12), ('compound:nn', 6, 1), ('compound:nn', 5, 2), ('dep', 5, 3), ('amod', 5, 4), ('compound:nn', 6, 5), ('compound:nn', 10, 6), ('punct', 10, 7), ('dep', 9, 8), ('compound:nn', 10, 9), ('nsubj', 12, 10), ('punct', 10, 11), ('dobj', 12, 13), ('conj', 12, 14), ('dobj', 14, 15), ('ccomp', 14, 16), ('conj', 16, 17), ('nmod:poss', 19, 18), ('nsubj', 20, 19), ('acl', 22, 20), ('mark', 20, 21), ('dobj', 17, 22)]\n"
    }
   ],
   "source": [
    "print (nlp.pos_tag(sentence))\n",
    "#print (nlp.ner(sentence))\n",
    "#print (nlp.word_tokenize(sentence))\n",
    "print (nlp.parse(sentence))\n",
    "print (nlp.dependency_parse(sentence))"
   ]
  },
  {
   "cell_type": "markdown",
   "metadata": {},
   "source": [
    "<font color=black size=6 face=\"黑体\"> Hanlp </font>"
   ]
  },
  {
   "cell_type": "code",
   "execution_count": 8,
   "metadata": {
    "scrolled": false
   },
   "outputs": [
    {
     "output_type": "stream",
     "name": "stdout",
     "text": "[我国/n, 古代/t, 四大名著/nz, 之一/rz, 《/w, 三国演义/nz, 》/w, 写/v, 刘备/nr, 聘请/v, 诸葛亮/nr, 出山/vi, 辅助/vn, 他/rr, 成就/n, 帝业/nz, 的/ude1, 故事/n]\n1\t我国\t我国\tn\tn\t_\t2\t定中关系\t_\t_\n2\t古代\t古代\tnt\tt\t_\t3\t定中关系\t_\t_\n3\t四大名著\t四大名著\tnz\tnz\t_\t4\t定中关系\t_\t_\n4\t之一\t之一\tr\tr\t_\t6\t定中关系\t_\t_\n5\t《\t《\twp\tw\t_\t6\t标点符号\t_\t_\n6\t三国演义\t三国演义\tnz\tnz\t_\t8\t主谓关系\t_\t_\n7\t》\t》\twp\tw\t_\t6\t标点符号\t_\t_\n8\t写\t写\tv\tv\t_\t0\t核心关系\t_\t_\n9\t刘备\t刘备\tnh\tnr\t_\t8\t动宾关系\t_\t_\n10\t聘请\t聘请\tv\tv\t_\t8\t并列关系\t_\t_\n11\t诸葛亮\t诸葛亮\tnh\tnr\t_\t10\t兼语\t_\t_\n12\t出山\t出山\tv\tv\t_\t18\t定中关系\t_\t_\n13\t辅助\t辅助\tv\tv\t_\t12\t并列关系\t_\t_\n14\t他\t他\tr\tr\t_\t15\t定中关系\t_\t_\n15\t成就\t成就\tn\tn\t_\t16\t定中关系\t_\t_\n16\t帝业\t帝业\tnz\tnz\t_\t13\t动宾关系\t_\t_\n17\t的\t的\tu\tu\t_\t16\t右附加关系\t_\t_\n18\t故事\t故事\tn\tn\t_\t10\t动宾关系\t_\t_\n"
    }
   ],
   "source": [
    "parse=HanLP.parseDependency(sentence)\n",
    "words=HanLP.segment(sentence)\n",
    "print(words)\n",
    "#print(parse.toString())\n",
    "\n",
    "# for i in parse.word:\n",
    "#     #print(dir(i))\n",
    "#     print(i.LEMMA,i.DEPREL,i.HEAD.LEMMA,i.POSTAG)\n",
    "for i in parse.word:\n",
    "    print(i)\n",
    ""
   ]
  },
  {
   "cell_type": "code",
   "execution_count": 10,
   "metadata": {
    "scrolled": true
   },
   "outputs": [
    {
     "output_type": "stream",
     "name": "stdout",
     "text": "我国 n\n古代 t\n四大名著 nz\n之一 rz\n《 w\n三国演义 nz\n》 w\n写 v\n刘备 nr\n聘请 v\n诸葛亮 nr\n出山 vi\n辅助 vn\n他 rr\n成就 n\n帝业 nz\n的 ude1\n故事 n\n"
    }
   ],
   "source": [
    "for word in words:\n",
    "    #print(dir(word))\n",
    "    print(word.word, word.nature)"
   ]
  },
  {
   "cell_type": "markdown",
   "metadata": {},
   "source": [
    "<font color=black size=6 face=\"黑体\"> jieba</font>"
   ]
  },
  {
   "cell_type": "code",
   "execution_count": 22,
   "metadata": {
    "scrolled": true
   },
   "outputs": [
    {
     "output_type": "stream",
     "name": "stderr",
     "text": "Building prefix dict from the default dictionary ...\nDumping model to file cache /tmp/jieba.cache\nLoading model cost 1.388 seconds.\nPrefix dict has been built successfully.\n南京|南京市|京市|市长|长江|长江大桥|大桥\n"
    }
   ],
   "source": [
    "# words = jieba.posseg.cut(sentence)\n",
    "# for word, flag in words:\n",
    "#     print('%s %s' % (word, flag))\n",
    "seg_list = jieba.cut(\"南京市长江大桥\", cut_all=True)\n",
    "print(\"|\".join(seg_list))"
   ]
  },
  {
   "cell_type": "markdown",
   "metadata": {},
   "source": [
    "<font color=black size=6 face=\"黑体\"> LTP </font>"
   ]
  },
  {
   "cell_type": "code",
   "execution_count": 23,
   "metadata": {},
   "outputs": [
    {
     "output_type": "stream",
     "name": "stdout",
     "text": "<class 'pyltp.VectorOfString'>\n\n\n\n"
    }
   ],
   "source": [
    "LTP_DATA_DIR='/mnt/e/ubuntu/ltp_data_v3.4.0/'\n",
    "cws_model_path=os.path.join(LTP_DATA_DIR,'cws.model')\n",
    "pos_model_path = os.path.join(LTP_DATA_DIR, 'pos.model')  # 词性标注模型路径，模型名称为`pos.model`\n",
    "par_model_path = os.path.join(LTP_DATA_DIR, 'parser.model')  # 依存句法分析模型路径，模型名称为`parser.model`\n",
    "\n",
    "#tools 初始化和加载模型\n",
    "segmentor=Segmentor()\n",
    "segmentor.load(cws_model_path)\n",
    " \n",
    "postagger = Postagger() \n",
    "postagger.load(pos_model_path)  \n",
    "\n",
    "parser = Parser() \n",
    "parser.load(par_model_path)  \n",
    "\n",
    "#逐步处理sentence\n",
    "words=segmentor.segment(sentence)\n",
    "print(type(words))\n",
    "print('\\t'.join(words))\n",
    "\n",
    "postags = postagger.postag(words)\n",
    "print('\\t'.join(postags))\n",
    "\n",
    "arcs = parser.parse(words, postags)\n",
    "print(\"\\t\".join(\"%d:%s\" % (arc.head, arc.relation) for arc in arcs))\n",
    "\n",
    "segmentor.release()\n",
    "postagger.release()\n",
    "parser.release()"
   ]
  },
  {
   "cell_type": "code",
   "execution_count": null,
   "metadata": {},
   "outputs": [],
   "source": []
  }
 ],
 "metadata": {
  "kernelspec": {
   "display_name": "Python 3",
   "language": "python",
   "name": "python3"
  },
  "language_info": {
   "codemirror_mode": {
    "name": "ipython",
    "version": 3
   },
   "file_extension": ".py",
   "mimetype": "text/x-python",
   "name": "python",
   "nbconvert_exporter": "python",
   "pygments_lexer": "ipython3",
   "version": "3.6.10-final"
  }
 },
 "nbformat": 4,
 "nbformat_minor": 2
}